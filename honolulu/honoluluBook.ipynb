{
 "cells": [
  {
   "cell_type": "markdown",
   "metadata": {},
   "source": [
    "# Actividad\n",
    "Planeas irte de viaje a Honolulu y decides hacer un análisis exploratorio de la data climática de la isla. Para comenzar, utiliza Python y SQLAlchemy para hacer tus análisis de clima y exploración de las tablas y los datos contenidos en la base de datos. Todos los análisis se deben completar utilizando SQLAlchemy, Queries ORM, y, si decides ir por la extra milla, Pandas y Matplotlib. Utiliza clases y OOP como guía para el desarrollo; no es necesario imprimir en pantalla, basta con la creación de las clases, funciones o métodos correspondientes.\n",
    "- Escoge una fecha de inicio y de finalización del viaje. Asegúrate que la duración del mismo sea entre 3 a 15 días.\n",
    "- Utiliza SQLAlchemy create_engine para conectarte a la base de datos Honolulu.SQLITE\n",
    "- Utiliza SQLAlchemy automap_base() para reflejar las tablas en clases y guardar una referencia a esas clases llamadas Station y Measurement.\n",
    "\n",
    "**Se ecoje la fecha 2016-11-25 a 2016-12-05**<br>\n",
    "Se realizan los calculos a partir de la fecha inicial *2016-11-25*"
   ]
  },
  {
   "cell_type": "markdown",
   "metadata": {},
   "source": [
    "# Creación de la conexión SQLite\n",
    "**En este ejemplo la creación se realiza permitiendo que automap_base() asuma los modelos de BD**. <br> *En el código se especifican por medio de clases* "
   ]
  },
  {
   "cell_type": "code",
   "execution_count": 1,
   "metadata": {},
   "outputs": [],
   "source": [
    "from sqlalchemy import create_engine, func\n",
    "from sqlalchemy.orm import Session\n",
    "from sqlalchemy.ext.automap import automap_base\n",
    "from datetime import datetime\n",
    "import dateutil.relativedelta\n",
    "import logging\n",
    "\n",
    "\n",
    "\n",
    "DATABASE_ROUTE = \"sqlite:///hawaii.sqlite\"\n",
    "START_DATE = '2016-11-25'\n",
    "END_DATE = '2016-12-05'\n",
    "\n",
    "\n",
    "Base = automap_base()\n",
    "engine = create_engine(DATABASE_ROUTE)\n",
    "Base.prepare(engine, reflect=True)\n",
    "session = Session(engine)\n",
    "\n",
    "# mapped classes created\n",
    "Measurement = Base.classes.measurement\n",
    "Station = Base.classes.station"
   ]
  },
  {
   "cell_type": "markdown",
   "metadata": {},
   "source": [
    "**Creación del proceso unificado de Dataframes (class)**\n",
    "- Se crean metodos para realizar diferentes procesos dentro de los query results según se requiera."
   ]
  },
  {
   "cell_type": "code",
   "execution_count": 2,
   "metadata": {},
   "outputs": [],
   "source": [
    "import pandas as pd\n",
    "import matplotlib.pyplot as plt\n",
    "\n",
    "\n",
    "class HonoluluDf:\n",
    "    \"\"\"A class used to represent an Animal\n",
    "    Args:\n",
    "    ----------\n",
    "    table_result : list\n",
    "        a tuple list with the db result.\n",
    "    index_field : str\n",
    "        field from the db to create the index (can't be the same 'table_vale').\n",
    "    table_value : str\n",
    "        field from the db to do the operations (avg, max, min etc..)\n",
    "\n",
    "    Methods\n",
    "    -------\n",
    "    get_df:\n",
    "        generate a Data frame object.\n",
    "    get_scatter_plot_data:\n",
    "        generate a plot type scatter for the given table\n",
    "    get_hist_plot_data:\n",
    "        generate a hist plot for the given table\n",
    "    \"\"\"\n",
    "    def __init__(self, table_result, index_field, table_value):\n",
    "        self.table_result = table_result\n",
    "        self.table_value = str(table_value)\n",
    "        self.index_field = index_field\n",
    "\n",
    "        self.df = pd.DataFrame(self.table_result).sort_values(by=[self.index_field])\n",
    "\n",
    "    def __str__(self):\n",
    "        return self.df.__str__()\n",
    "\n",
    "    def get_df(self):\n",
    "        return self.df\n",
    "\n",
    "    def get_scatter_plot_data(self):\n",
    "        self.df.plot(x=self.index_field, y=self.table_value, kind='scatter')\n",
    "        plt.show()\n",
    "\n",
    "    def get_hist_plot_data(self):\n",
    "        self.df.hist(bins=12)\n",
    "        plt.show()"
   ]
  },
  {
   "cell_type": "markdown",
   "metadata": {},
   "source": [
    "# Diseña un QUERY para calcular el número total de estaciones."
   ]
  },
  {
   "cell_type": "code",
   "execution_count": 3,
   "metadata": {},
   "outputs": [
    {
     "name": "stdout",
     "output_type": "stream",
     "text": [
      "9\n"
     ]
    }
   ],
   "source": [
    "def get_count(table_value):\n",
    "    \"\"\"\n",
    "    Parameters\n",
    "    ----------\n",
    "        table_value: table from Sqlalchemy model.\n",
    "            Model from Sqlalchemy table and module in\n",
    "            format 'module.table'.\n",
    "    Returns\n",
    "    -------\n",
    "        Int: with count of all rows from the 'module.table'.\n",
    "    \"\"\"\n",
    "    try:\n",
    "        return session.query(table_value).count()\n",
    "\n",
    "    except Exception as exc:\n",
    "        logging.warning(exc)\n",
    "        \n",
    "        \n",
    "print(get_count(Station.station))"
   ]
  },
  {
   "cell_type": "markdown",
   "metadata": {},
   "source": [
    "# Diseña un QUERY para encontrar cuáles son las estaciones más activas:\n",
    "- Enumera las estaciones y conteo de observaciones en orden descendente.\n",
    "- ¿Cuál estación tiene el número mayor de observaciones?"
   ]
  },
  {
   "cell_type": "code",
   "execution_count": 4,
   "metadata": {},
   "outputs": [
    {
     "name": "stdout",
     "output_type": "stream",
     "text": [
      "[(1, 'USC00519281', 2772), (2, 'USC00519397', 2724), (3, 'USC00513117', 2709), (4, 'USC00519523', 2669), (5, 'USC00516128', 2612), (6, 'USC00514830', 2202), (7, 'USC00511918', 1979), (8, 'USC00517948', 1372), (9, 'USC00518838', 511)]\n"
     ]
    }
   ],
   "source": [
    "def get_groupBy(table_value):\n",
    "    \"\"\"\n",
    "    Parameters\n",
    "    ----------\n",
    "        table_value: table from Sqlalchemy model.\n",
    "            Model from Sqlalchemy table and module\n",
    "            in format 'module.table'.\n",
    "    Returns\n",
    "    -------\n",
    "        Int: with count of all rows from the 'module.table'.\n",
    "    \"\"\"\n",
    "    try:\n",
    "        return session.query(func.row_number()\n",
    "                            .over(order_by=func.count(table_value).label(str(table_value)+'_numb').desc())\n",
    "                            .label(\"row_number\"),\n",
    "                            table_value,\n",
    "                            func.count(table_value) \\\n",
    "                            .label(str(table_value)+'_numb')).group_by(table_value).all()\n",
    "\n",
    "    except Exception as exc:\n",
    "        logging.warning(exc)\n",
    "\n",
    "        \n",
    "print(get_groupBy(Measurement.station))"
   ]
  },
  {
   "cell_type": "markdown",
   "metadata": {},
   "source": [
    "# Diseña un QUERY para obtener los últimos 12 meses de mediciones de temperatura (tobs)\n",
    "- Filtra por estaciones con el mayor número de observaciones.\n",
    "- [OPCIONAL] Grafica los resultados como un histograma con bins=12.\n",
    "\n",
    "<font color='green'>*Se crea una función generica para obtenér igualmente el query de precipitaciones*</font>"
   ]
  },
  {
   "cell_type": "code",
   "execution_count": 12,
   "metadata": {},
   "outputs": [],
   "source": [
    "def get_measurement_date_partitioned_from(column: str = None,\n",
    "                                          end_date: str = None,\n",
    "                                          months_to_decrease: int = None):\n",
    "    \"\"\"\n",
    "    Parameters\n",
    "    ----------\n",
    "        column: str\n",
    "            set 'tobs' or 'prcp' column.\n",
    "        end_date: str\n",
    "            determine the final date to get data.\n",
    "        months_to_decrease: Int\n",
    "            number of months to calculate from which\n",
    "            date do filter.\n",
    "    Returns\n",
    "    -------\n",
    "        list: with the values of the query\n",
    "    \"\"\"\n",
    "\n",
    "    try:\n",
    "        source_dict = {'prcp': Measurement.prcp,\n",
    "                       'tobs': Measurement.tobs}\n",
    "\n",
    "        if column is None or column not in source_dict:\n",
    "            return [('error', 'column error')]\n",
    "\n",
    "        table_lable = source_dict[column]\n",
    "        lable_name = column\n",
    "\n",
    "        trfm_date = datetime.strptime(end_date, \"%Y-%m-%d\")\n",
    "        start_date = trfm_date - dateutil.relativedelta.relativedelta(months=months_to_decrease)\n",
    "\n",
    "        return session.query(Measurement.date.label('date'),\n",
    "                                        table_lable.label(str(lable_name))) \\\n",
    "            .filter(Measurement.date > start_date.strftime(\"%Y-%m-%d\"),\n",
    "                    Measurement.date < end_date) \\\n",
    "            .order_by(table_lable.label(str(lable_name)).desc()).all()\n",
    "\n",
    "    except Exception as exc:\n",
    "        logging.info(exc)\n",
    "        \n",
    "        \n",
    "prcp_result = get_measurement_date_partitioned_from(column='prcp', \n",
    "                                                    end_date=END_DATE, \n",
    "                                                    months_to_decrease=12)\n",
    "\n",
    "tobs_result = get_measurement_date_partitioned_from(column='tobs', \n",
    "                                                    end_date=END_DATE, \n",
    "                                                    months_to_decrease=12)"
   ]
  },
  {
   "cell_type": "markdown",
   "metadata": {},
   "source": [
    "# Dataframes\n",
    "\n",
    "**Proceso: **\n",
    "- Realizar los queries para las tablas que requieren Dataframes\n",
    "- Se indican los procedimientos.\n",
    "- Carga los resultados del QUERY en un Pandas DataFrame (el index se especifica en la clase junto con su orden).\n",
    "- Grafica los resultados utilizando el método plot de DataFrame.\n",
    "- Utiliza Pandas para imprimir el sumario de estadísticas para la data de precipitación.\n",
    "- Grafica los resultados como un histograma con bins=12."
   ]
  },
  {
   "cell_type": "code",
   "execution_count": 21,
   "metadata": {},
   "outputs": [
    {
     "data": {
      "image/png": "[encoded data removed]",
      "text/plain": [
       "<Figure size 432x288 with 1 Axes>"
      ]
     },
     "metadata": {
      "needs_background": "light"
     },
     "output_type": "display_data"
    },
    {
     "name": "stdout",
     "output_type": "stream",
     "text": [
      "              prcp\n",
      "count  2050.000000\n",
      "mean      0.180327\n",
      "std       0.506908\n",
      "min       0.000000\n",
      "25%       0.000000\n",
      "50%       0.020000\n",
      "75%       0.150000\n",
      "max       9.640000\n",
      "\n"
     ]
    },
    {
     "data": {
      "image/png": "[encoded data removed]",
      "text/plain": [
       "<Figure size 432x288 with 1 Axes>"
      ]
     },
     "metadata": {
      "needs_background": "light"
     },
     "output_type": "display_data"
    },
    {
     "name": "stdout",
     "output_type": "stream",
     "text": [
      "              tobs\n",
      "count  2288.000000\n",
      "mean     74.332605\n",
      "std       4.369764\n",
      "min      56.000000\n",
      "25%      71.000000\n",
      "50%      75.000000\n",
      "75%      78.000000\n",
      "max      84.000000\n"
     ]
    }
   ],
   "source": [
    "#Creación de los objetos DF de cada columna 'prcp' y 'tobs'\n",
    "honolulu_df_prcp = HonoluluDf(prcp_result, 'date', 'prcp')\n",
    "honolulu_df_tobs = HonoluluDf(tobs_result, 'date', 'tobs')\n",
    "\n",
    "\n",
    "# Creación de el scatter plot y un sumario con las estadisticas de prcp\n",
    "honolulu_df_prcp.get_scatter_plot_data()\n",
    "\n",
    "df_prcp = honolulu_df_prcp.get_df()\n",
    "print(f\"{df_prcp.describe()}\\n\")\n",
    "\n",
    "\n",
    "# Creación de el scatter plot y un sumario con las estadisticas de prcp\n",
    "honolulu_df_tobs.get_hist_plot_data()\n",
    "\n",
    "df_tobs = honolulu_df_tobs.get_df()\n",
    "print(f\"{df_tobs.describe()}\")\n"
   ]
  },
  {
   "cell_type": "code",
   "execution_count": null,
   "metadata": {},
   "outputs": [],
   "source": []
  }
 ],
 "metadata": {
  "kernelspec": {
   "display_name": "Python 3",
   "language": "python",
   "name": "python3"
  },
  "language_info": {
   "codemirror_mode": {
    "name": "ipython",
    "version": 3
   },
   "file_extension": ".py",
   "mimetype": "text/x-python",
   "name": "python",
   "nbconvert_exporter": "python",
   "pygments_lexer": "ipython3",
   "version": "3.7.6"
  }
 },
 "nbformat": 4,
 "nbformat_minor": 4
}
